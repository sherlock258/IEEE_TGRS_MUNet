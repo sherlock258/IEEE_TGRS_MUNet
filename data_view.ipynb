{
 "cells": [
  {
   "cell_type": "code",
   "execution_count": 12,
   "metadata": {},
   "outputs": [],
   "source": [
    "import torch\n",
    "import torch.utils.data as Data\n",
    "import numpy as np\n",
    "import scipy.io as sio"
   ]
  },
  {
   "cell_type": "code",
   "execution_count": 2,
   "metadata": {},
   "outputs": [],
   "source": [
    "image_file = r'./data/muffle_dataset_130_90.mat'\n",
    "num_classes = 5\n",
    "band = 64\n",
    "col = 90\n",
    "row = 130"
   ]
  },
  {
   "cell_type": "code",
   "execution_count": 3,
   "metadata": {},
   "outputs": [],
   "source": [
    "input_data = sio.loadmat(image_file)\n",
    "image = input_data['Y']\n",
    "image = image.astype(np.float32)\n",
    "label = input_data['label']\n",
    "label = label.astype(np.float32).transpose(2,1,0)\n",
    "lidar = input_data['MPN']\n",
    "lidar = lidar.astype(np.float32)\n",
    "M_init = input_data['M1']\n",
    "M_init = torch.from_numpy(M_init).unsqueeze(2).unsqueeze(3).float() \n",
    "M_true = input_data['M']"
   ]
  },
  {
   "cell_type": "code",
   "execution_count": 4,
   "metadata": {},
   "outputs": [],
   "source": [
    "#   mirror_hsi(row, col, band, lidar.shape[2], image, lidar, patch) lidar.shape[2] = 90\n",
    "def mirror_hsi(height, width, band, edm, input_normalize, label_normalize, patch):\n",
    "    padding=patch//2\n",
    "    mirror_hsi=np.zeros((height+2*padding,width+2*padding,band), dtype=float)\n",
    "    mirror_label=np.zeros((height+2*padding,width+2*padding,edm), dtype=float)\n",
    "    #central region\n",
    "    mirror_hsi[padding:(padding+height),padding:(padding+width),:]=input_normalize\n",
    "    mirror_label[padding:(padding+height),padding:(padding+width),:]=label_normalize\n",
    "    #left region\n",
    "    for i in range(padding):\n",
    "        mirror_hsi[padding:(height+padding),i,:]=input_normalize[:,padding-i-1,:]\n",
    "        mirror_label[padding:(height+padding),i,:]=label_normalize[:,padding-i-1,:]\n",
    "    #right region\n",
    "    for i in range(padding):\n",
    "        mirror_hsi[padding:(height+padding),width+padding+i,:]=input_normalize[:,width-1-i,:]\n",
    "        mirror_label[padding:(height+padding),width+padding+i,:]=label_normalize[:,width-1-i,:]\n",
    "    #top region\n",
    "    for i in range(padding):\n",
    "        mirror_hsi[i,:,:]=mirror_hsi[padding*2-i-1,:,:]\n",
    "        mirror_label[i,:,:]=mirror_label[padding*2-i-1,:,:]\n",
    "    #bottom region\n",
    "    for i in range(padding):\n",
    "        mirror_hsi[height+padding+i,:,:]=mirror_hsi[height+padding-1-i,:,:]\n",
    "        mirror_label[height+padding+i,:,:]=mirror_label[height+padding-1-i,:,:]\n",
    "\n",
    "    print(\"**************************************************\")\n",
    "    print(\"patch is : {}\".format(patch))\n",
    "    print(\"mirror_image shape : [{0},{1},{2}]\".format(mirror_hsi.shape[0],mirror_hsi.shape[1],mirror_hsi.shape[2]))\n",
    "    print(\"mirror_label shape : [{0},{1},{2}]\".format(mirror_label.shape[0],mirror_label.shape[1],mirror_label.shape[2]))\n",
    "    print(\"**************************************************\")\n",
    "    return mirror_hsi, mirror_label"
   ]
  },
  {
   "cell_type": "code",
   "execution_count": 10,
   "metadata": {},
   "outputs": [
    {
     "name": "stdout",
     "output_type": "stream",
     "text": [
      "**************************************************\n",
      "patch is : 1\n",
      "mirror_image shape : [130,90,64]\n",
      "mirror_label shape : [130,90,5]\n",
      "**************************************************\n"
     ]
    }
   ],
   "source": [
    "patch = 1\n",
    "mirror_image, mirror_lidar = mirror_hsi(row, col, band, lidar.shape[2], image, lidar, patch) \n"
   ]
  },
  {
   "cell_type": "code",
   "execution_count": 11,
   "metadata": {},
   "outputs": [],
   "source": [
    "def gain_neighborhood_pixel(mirror_image, train_point, i, patch):\n",
    "    x = train_point[i][0]\n",
    "    y = train_point[i][1]\n",
    "    temp_image = mirror_image[x:(x+patch),y:(y+patch),:]\n",
    "    return temp_image"
   ]
  },
  {
   "cell_type": "code",
   "execution_count": 35,
   "metadata": {},
   "outputs": [],
   "source": [
    "train_point = []\n",
    "x_train = np.zeros((row*col, patch, patch, band), dtype=float)\n",
    "y_train = np.zeros((row*col, patch, patch, lidar.shape[2]), dtype=float)\n",
    "for i in range(row):\n",
    "    for j in range(col):\n",
    "        train_point.append([i,j])\n",
    "for k in range(len(train_point)):\n",
    "    x_train[k,:,:,:] = gain_neighborhood_pixel(mirror_image, train_point, k, patch)\n",
    "    y_train[k,:,:,:] = gain_neighborhood_pixel(mirror_lidar, train_point, k, patch)"
   ]
  },
  {
   "cell_type": "code",
   "execution_count": 30,
   "metadata": {},
   "outputs": [
    {
     "name": "stdout",
     "output_type": "stream",
     "text": [
      "(11700, 1, 1, 64)\n",
      "(11700, 1, 1, 5)\n"
     ]
    }
   ],
   "source": [
    "print(x_train.shape)\n",
    "print(y_train.shape)"
   ]
  },
  {
   "cell_type": "code",
   "execution_count": 33,
   "metadata": {},
   "outputs": [],
   "source": [
    "batch_size = 128\n"
   ]
  },
  {
   "cell_type": "code",
   "execution_count": 36,
   "metadata": {},
   "outputs": [],
   "source": [
    "x_train = torch.from_numpy(x_train.transpose(0,3,1,2)).type(torch.FloatTensor)\n",
    "y_train = torch.from_numpy(y_train.transpose(0,3,1,2)).type(torch.FloatTensor)\n",
    "Label_train = Data.TensorDataset(x_train, y_train)\n",
    "label_train_loader = Data.DataLoader(Label_train, batch_size=batch_size, shuffle=True)\n",
    "    \n",
    "x_test = torch.from_numpy(image.T).unsqueeze(0).float()\n",
    "if lidar.shape[2] > 1:\n",
    "    y_test = torch.from_numpy(lidar.T).unsqueeze(0).float()\n",
    "else:\n",
    "    y_test = torch.from_numpy(lidar.T).unsqueeze(0).unsqueeze(0).float()\n",
    "Label_test = Data.TensorDataset(x_test, y_test)\n",
    "\n",
    "label_test_loader = Data.DataLoader(Label_train, batch_size=row*col, shuffle=False)"
   ]
  },
  {
   "cell_type": "code",
   "execution_count": null,
   "metadata": {},
   "outputs": [],
   "source": []
  }
 ],
 "metadata": {
  "kernelspec": {
   "display_name": "Python 3.7.9 64-bit",
   "language": "python",
   "name": "python3"
  },
  "language_info": {
   "codemirror_mode": {
    "name": "ipython",
    "version": 3
   },
   "file_extension": ".py",
   "mimetype": "text/x-python",
   "name": "python",
   "nbconvert_exporter": "python",
   "pygments_lexer": "ipython3",
   "version": "3.7.9"
  },
  "orig_nbformat": 4,
  "vscode": {
   "interpreter": {
    "hash": "b7b9862250acc2583c7ce65db11a636026a53282eb9be05786839bc10e538367"
   }
  }
 },
 "nbformat": 4,
 "nbformat_minor": 2
}
