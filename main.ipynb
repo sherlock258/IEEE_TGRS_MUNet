{
 "cells": [
  {
   "cell_type": "code",
   "execution_count": 3,
   "metadata": {},
   "outputs": [
    {
     "name": "stderr",
     "output_type": "stream",
     "text": [
      "c:\\Users\\sherlock\\AppData\\Local\\Programs\\Python\\Python37\\lib\\site-packages\\tqdm\\auto.py:22: TqdmWarning: IProgress not found. Please update jupyter and ipywidgets. See https://ipywidgets.readthedocs.io/en/stable/user_install.html\n",
      "  from .autonotebook import tqdm as notebook_tqdm\n"
     ]
    }
   ],
   "source": [
    "import torch\n",
    "import torch.nn as nn\n",
    "import torch.backends.cudnn as cudnn\n",
    "from evaluation import compute_rmse, compute_sad\n",
    "from utils import print_args, SparseLoss, NonZeroClipper, MinVolumn\n",
    "from data_loader import set_loader\n",
    "from model import Init_Weights, MUNet\n",
    "\n",
    "import matplotlib.pyplot as plt\n",
    "import scipy.io as sio\n",
    "import numpy as np\n",
    "import argparse\n",
    "import random\n",
    "import time\n",
    "import os"
   ]
  },
  {
   "cell_type": "code",
   "execution_count": 4,
   "metadata": {},
   "outputs": [],
   "source": [
    "parser = argparse.ArgumentParser()\n",
    "parser.add_argument('--fix_random', action='store_true', help='fix randomness')\n",
    "parser.add_argument('--seed', default=0, type=int)\n",
    "parser.add_argument('--gpu_id', default='0,1,2', help='gpu id')\n",
    "parser.add_argument('--batch_size', default=128, type=int, help='batch size')\n",
    "parser.add_argument('--patch', default=1, type=int, help='input data size')\n",
    "parser.add_argument('--learning_rate_en', default=3e-4, type=float, help='learning rate of encoder')\n",
    "parser.add_argument('--learning_rate_de', default=1e-4, type=float, help='learning rate of decoder')\n",
    "parser.add_argument('--weight_decay', default=1e-5, type=float, help='network parameter regularization')\n",
    "parser.add_argument('--lamda', default=0, type=float, help='sparse regularization')\n",
    "parser.add_argument('--reduction', default=2, type=int, help='squeeze reduction')\n",
    "parser.add_argument('--delta', default=0, type=float, help='delta coefficient')\n",
    "parser.add_argument('--gamma', default=0.8, type=float, help='learning rate decay')\n",
    "parser.add_argument('--epoch', default=200, type=int, help='number of epoch')\n",
    "parser.add_argument('--dataset', choices=['muffle','houston170'], default='muffle', help='dataset to use')\n",
    "args = parser.parse_args(args = [])"
   ]
  },
  {
   "cell_type": "code",
   "execution_count": 5,
   "metadata": {},
   "outputs": [
    {
     "name": "stdout",
     "output_type": "stream",
     "text": [
      "**************************************************\n",
      "patch is : 1\n",
      "mirror_image shape : [130,90,64]\n",
      "mirror_label shape : [130,90,5]\n",
      "**************************************************\n"
     ]
    }
   ],
   "source": [
    "train_loaders, test_loaders, label, M_init, M_true, num_classes, band, col, row, ldr_dim = set_loader(args)"
   ]
  },
  {
   "cell_type": "code",
   "execution_count": 7,
   "metadata": {},
   "outputs": [],
   "source": [
    "net = MUNet(band, num_classes, ldr_dim, args.reduction)"
   ]
  },
  {
   "cell_type": "code",
   "execution_count": null,
   "metadata": {},
   "outputs": [],
   "source": []
  },
  {
   "cell_type": "code",
   "execution_count": 8,
   "metadata": {},
   "outputs": [
    {
     "name": "stdout",
     "output_type": "stream",
     "text": [
      "Init Network Weights\n",
      "initialize network with xavier\n"
     ]
    }
   ],
   "source": [
    "if args.dataset == 'muffle':\n",
    "    position = np.array([0,2,1,3,4]) # muffle\n",
    "    Init_Weights(net,'xavier', 1)\n",
    "elif args.dataset == 'houston170': \n",
    "    position = np.array([0,1,2,3]) # houston170\n",
    "    Init_Weights(net,'xavier', 1)"
   ]
  },
  {
   "cell_type": "code",
   "execution_count": 9,
   "metadata": {},
   "outputs": [],
   "source": [
    "net_dict = net.state_dict()\n",
    "net_dict['decoder.0.weight'] = M_init\n",
    "net.load_state_dict(net_dict)\n",
    "\n",
    "# loss funtion and regularization\n",
    "apply_nonegative = NonZeroClipper()\n",
    "loss_func = nn.MSELoss()\n",
    "criterionSparse = SparseLoss(args.lamda)\n",
    "criterionVolumn = MinVolumn(band, num_classes, args.delta)"
   ]
  },
  {
   "cell_type": "code",
   "execution_count": 11,
   "metadata": {},
   "outputs": [],
   "source": [
    "# optimizer setting\n",
    "params = map(id, net.decoder.parameters())\n",
    "ignored_params = list(set(params))      \n",
    "base_params = filter(lambda p: id(p) not in ignored_params, net.parameters()) \n",
    "optimizer = torch.optim.Adam([{'params': base_params},{'params': net.decoder.parameters(), 'lr': args.learning_rate_de}],\n",
    "                                lr = args.learning_rate_en, weight_decay=args.weight_decay)\n",
    "scheduler = torch.optim.lr_scheduler.StepLR(optimizer, step_size=20, gamma=args.gamma)"
   ]
  },
  {
   "cell_type": "code",
   "execution_count": null,
   "metadata": {},
   "outputs": [],
   "source": [
    "for epoch in range(args.epoch):\n",
    "    for i, traindata in enumerate(train_loaders):        \n",
    "        net.train()\n",
    "\n",
    "        x, y = traindata       \n",
    "        x = x.cuda()\n",
    "        y = y.cuda()\n",
    "            \n",
    "        abu, output = net(x,y)            \n",
    "        output = torch.reshape(output, (output.shape[0], band))\n",
    "        x = torch.reshape(x, (output.shape[0], band))\n",
    "\n",
    "        # reconstruction loss\n",
    "        MSE_loss = torch.mean(torch.acos(torch.sum(x * output, dim=1)/\n",
    "                    (torch.norm(output, dim=1, p=2)*torch.norm(x, dim=1, p=2))))\n",
    "        # sparsity and minimum volume regularization\n",
    "        MSE_loss += criterionSparse(abu) + criterionVolumn(net.decoder[0].weight)       \n",
    "\n",
    "        optimizer.zero_grad()\n",
    "        MSE_loss.backward()\n",
    "        nn.utils.clip_grad_norm_(net.parameters(), max_norm=10, norm_type=1) \n",
    "        optimizer.step()\n",
    "        net.decoder.apply(apply_nonegative)    \n",
    "        \n",
    "    if epoch % 1 == 0:\n",
    "        print('Epoch: {:d} | Train Unmix Loss: {:.5f} | RE Loss: {:.5f} | Sparsity Loss: {:.5f} | Minvol: {:.5f}'\n",
    "            .format(epoch, MSE_loss, loss_func(output, x), criterionSparse(abu), criterionVolumn(net.decoder[0].weight)))\n",
    "        net.eval()\n",
    "        for k, testdata in enumerate(test_loaders):\n",
    "            x, y = testdata\n",
    "            x = x.cuda()\n",
    "            y = y.cuda()\n",
    "            \n",
    "            abu_est, output = net(x, y)\n",
    " \n",
    "        abu_est = torch.reshape(abu_est.squeeze(-1).permute(2,1,0), (num_classes,row,col)).permute(0,2,1).cpu().data.numpy()\n",
    "        edm_result = torch.reshape(net.decoder[0].weight, (band,num_classes)).cpu().data.numpy()           \n",
    "        print('RMSE: {:.5f} | SAD: {:.5f}'.format(compute_rmse(abu_est[position,:,:],label), compute_sad(M_true, edm_result[:,position])))\n",
    "        print('**********************************')\n",
    "\n",
    "    scheduler.step()"
   ]
  },
  {
   "cell_type": "code",
   "execution_count": 12,
   "metadata": {},
   "outputs": [
    {
     "name": "stdout",
     "output_type": "stream",
     "text": [
      "torch.Size([128, 64, 1, 1]) torch.Size([128, 5, 1, 1])\n",
      "torch.Size([128, 64, 1, 1]) torch.Size([128, 5, 1, 1])\n",
      "torch.Size([128, 64, 1, 1]) torch.Size([128, 5, 1, 1])\n",
      "torch.Size([128, 64, 1, 1]) torch.Size([128, 5, 1, 1])\n",
      "torch.Size([128, 64, 1, 1]) torch.Size([128, 5, 1, 1])\n",
      "torch.Size([128, 64, 1, 1]) torch.Size([128, 5, 1, 1])\n",
      "torch.Size([128, 64, 1, 1]) torch.Size([128, 5, 1, 1])\n",
      "torch.Size([128, 64, 1, 1]) torch.Size([128, 5, 1, 1])\n",
      "torch.Size([128, 64, 1, 1]) torch.Size([128, 5, 1, 1])\n",
      "torch.Size([128, 64, 1, 1]) torch.Size([128, 5, 1, 1])\n",
      "torch.Size([128, 64, 1, 1]) torch.Size([128, 5, 1, 1])\n",
      "torch.Size([128, 64, 1, 1]) torch.Size([128, 5, 1, 1])\n",
      "torch.Size([128, 64, 1, 1]) torch.Size([128, 5, 1, 1])\n",
      "torch.Size([128, 64, 1, 1]) torch.Size([128, 5, 1, 1])\n",
      "torch.Size([128, 64, 1, 1]) torch.Size([128, 5, 1, 1])\n",
      "torch.Size([128, 64, 1, 1]) torch.Size([128, 5, 1, 1])\n",
      "torch.Size([128, 64, 1, 1]) torch.Size([128, 5, 1, 1])\n",
      "torch.Size([128, 64, 1, 1]) torch.Size([128, 5, 1, 1])\n",
      "torch.Size([128, 64, 1, 1]) torch.Size([128, 5, 1, 1])\n",
      "torch.Size([128, 64, 1, 1]) torch.Size([128, 5, 1, 1])\n",
      "torch.Size([128, 64, 1, 1]) torch.Size([128, 5, 1, 1])\n",
      "torch.Size([128, 64, 1, 1]) torch.Size([128, 5, 1, 1])\n",
      "torch.Size([128, 64, 1, 1]) torch.Size([128, 5, 1, 1])\n",
      "torch.Size([128, 64, 1, 1]) torch.Size([128, 5, 1, 1])\n",
      "torch.Size([128, 64, 1, 1]) torch.Size([128, 5, 1, 1])\n",
      "torch.Size([128, 64, 1, 1]) torch.Size([128, 5, 1, 1])\n",
      "torch.Size([128, 64, 1, 1]) torch.Size([128, 5, 1, 1])\n",
      "torch.Size([128, 64, 1, 1]) torch.Size([128, 5, 1, 1])\n",
      "torch.Size([128, 64, 1, 1]) torch.Size([128, 5, 1, 1])\n",
      "torch.Size([128, 64, 1, 1]) torch.Size([128, 5, 1, 1])\n",
      "torch.Size([128, 64, 1, 1]) torch.Size([128, 5, 1, 1])\n",
      "torch.Size([128, 64, 1, 1]) torch.Size([128, 5, 1, 1])\n",
      "torch.Size([128, 64, 1, 1]) torch.Size([128, 5, 1, 1])\n",
      "torch.Size([128, 64, 1, 1]) torch.Size([128, 5, 1, 1])\n",
      "torch.Size([128, 64, 1, 1]) torch.Size([128, 5, 1, 1])\n",
      "torch.Size([128, 64, 1, 1]) torch.Size([128, 5, 1, 1])\n",
      "torch.Size([128, 64, 1, 1]) torch.Size([128, 5, 1, 1])\n",
      "torch.Size([128, 64, 1, 1]) torch.Size([128, 5, 1, 1])\n",
      "torch.Size([128, 64, 1, 1]) torch.Size([128, 5, 1, 1])\n",
      "torch.Size([128, 64, 1, 1]) torch.Size([128, 5, 1, 1])\n",
      "torch.Size([128, 64, 1, 1]) torch.Size([128, 5, 1, 1])\n",
      "torch.Size([128, 64, 1, 1]) torch.Size([128, 5, 1, 1])\n",
      "torch.Size([128, 64, 1, 1]) torch.Size([128, 5, 1, 1])\n",
      "torch.Size([128, 64, 1, 1]) torch.Size([128, 5, 1, 1])\n",
      "torch.Size([128, 64, 1, 1]) torch.Size([128, 5, 1, 1])\n",
      "torch.Size([128, 64, 1, 1]) torch.Size([128, 5, 1, 1])\n",
      "torch.Size([128, 64, 1, 1]) torch.Size([128, 5, 1, 1])\n",
      "torch.Size([128, 64, 1, 1]) torch.Size([128, 5, 1, 1])\n",
      "torch.Size([128, 64, 1, 1]) torch.Size([128, 5, 1, 1])\n",
      "torch.Size([128, 64, 1, 1]) torch.Size([128, 5, 1, 1])\n",
      "torch.Size([128, 64, 1, 1]) torch.Size([128, 5, 1, 1])\n",
      "torch.Size([128, 64, 1, 1]) torch.Size([128, 5, 1, 1])\n",
      "torch.Size([128, 64, 1, 1]) torch.Size([128, 5, 1, 1])\n",
      "torch.Size([128, 64, 1, 1]) torch.Size([128, 5, 1, 1])\n",
      "torch.Size([128, 64, 1, 1]) torch.Size([128, 5, 1, 1])\n",
      "torch.Size([128, 64, 1, 1]) torch.Size([128, 5, 1, 1])\n",
      "torch.Size([128, 64, 1, 1]) torch.Size([128, 5, 1, 1])\n",
      "torch.Size([128, 64, 1, 1]) torch.Size([128, 5, 1, 1])\n",
      "torch.Size([128, 64, 1, 1]) torch.Size([128, 5, 1, 1])\n",
      "torch.Size([128, 64, 1, 1]) torch.Size([128, 5, 1, 1])\n",
      "torch.Size([128, 64, 1, 1]) torch.Size([128, 5, 1, 1])\n",
      "torch.Size([128, 64, 1, 1]) torch.Size([128, 5, 1, 1])\n",
      "torch.Size([128, 64, 1, 1]) torch.Size([128, 5, 1, 1])\n",
      "torch.Size([128, 64, 1, 1]) torch.Size([128, 5, 1, 1])\n",
      "torch.Size([128, 64, 1, 1]) torch.Size([128, 5, 1, 1])\n",
      "torch.Size([128, 64, 1, 1]) torch.Size([128, 5, 1, 1])\n",
      "torch.Size([128, 64, 1, 1]) torch.Size([128, 5, 1, 1])\n",
      "torch.Size([128, 64, 1, 1]) torch.Size([128, 5, 1, 1])\n",
      "torch.Size([128, 64, 1, 1]) torch.Size([128, 5, 1, 1])\n",
      "torch.Size([128, 64, 1, 1]) torch.Size([128, 5, 1, 1])\n",
      "torch.Size([128, 64, 1, 1]) torch.Size([128, 5, 1, 1])\n",
      "torch.Size([128, 64, 1, 1]) torch.Size([128, 5, 1, 1])\n",
      "torch.Size([128, 64, 1, 1]) torch.Size([128, 5, 1, 1])\n",
      "torch.Size([128, 64, 1, 1]) torch.Size([128, 5, 1, 1])\n",
      "torch.Size([128, 64, 1, 1]) torch.Size([128, 5, 1, 1])\n",
      "torch.Size([128, 64, 1, 1]) torch.Size([128, 5, 1, 1])\n",
      "torch.Size([128, 64, 1, 1]) torch.Size([128, 5, 1, 1])\n",
      "torch.Size([128, 64, 1, 1]) torch.Size([128, 5, 1, 1])\n",
      "torch.Size([128, 64, 1, 1]) torch.Size([128, 5, 1, 1])\n",
      "torch.Size([128, 64, 1, 1]) torch.Size([128, 5, 1, 1])\n",
      "torch.Size([128, 64, 1, 1]) torch.Size([128, 5, 1, 1])\n",
      "torch.Size([128, 64, 1, 1]) torch.Size([128, 5, 1, 1])\n",
      "torch.Size([128, 64, 1, 1]) torch.Size([128, 5, 1, 1])\n",
      "torch.Size([128, 64, 1, 1]) torch.Size([128, 5, 1, 1])\n",
      "torch.Size([128, 64, 1, 1]) torch.Size([128, 5, 1, 1])\n",
      "torch.Size([128, 64, 1, 1]) torch.Size([128, 5, 1, 1])\n",
      "torch.Size([128, 64, 1, 1]) torch.Size([128, 5, 1, 1])\n",
      "torch.Size([128, 64, 1, 1]) torch.Size([128, 5, 1, 1])\n",
      "torch.Size([128, 64, 1, 1]) torch.Size([128, 5, 1, 1])\n",
      "torch.Size([128, 64, 1, 1]) torch.Size([128, 5, 1, 1])\n",
      "torch.Size([128, 64, 1, 1]) torch.Size([128, 5, 1, 1])\n",
      "torch.Size([52, 64, 1, 1]) torch.Size([52, 5, 1, 1])\n"
     ]
    }
   ],
   "source": [
    "for i, traindata in enumerate(train_loaders):        \n",
    "    net.train()\n",
    "    x, y = traindata\n",
    "    print(x.shape, y.shape)\n"
   ]
  }
 ],
 "metadata": {
  "kernelspec": {
   "display_name": "Python 3.7.9 64-bit",
   "language": "python",
   "name": "python3"
  },
  "language_info": {
   "codemirror_mode": {
    "name": "ipython",
    "version": 3
   },
   "file_extension": ".py",
   "mimetype": "text/x-python",
   "name": "python",
   "nbconvert_exporter": "python",
   "pygments_lexer": "ipython3",
   "version": "3.7.9"
  },
  "orig_nbformat": 4,
  "vscode": {
   "interpreter": {
    "hash": "b7b9862250acc2583c7ce65db11a636026a53282eb9be05786839bc10e538367"
   }
  }
 },
 "nbformat": 4,
 "nbformat_minor": 2
}
